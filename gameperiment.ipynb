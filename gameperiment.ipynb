{
 "cells": [
  {
   "cell_type": "code",
   "execution_count": null,
   "metadata": {},
   "outputs": [],
   "source": [
    "### EXPERIMENTIEREN MIT JUPYTER NOTEBOOKS FÜR DIE ENTWICKLUNG VON SPIELEN\n",
    "### Danke an Kylie Ying https://www.youtube.com/watch?v=8ext9G7xspg&list=WL&index=6 \n",
    "from openpyxl import Workbook\n",
    "from openpyxl.chart import BarChart, Reference\n",
    "import pandas as pd\n",
    "import numpy as np\n",
    "import random\n",
    "import json\n",
    "import string\n"
   ]
  },
  {
   "cell_type": "markdown",
   "metadata": {},
   "source": [
    "##### Hier wird die JSON-Datei als Python-Dictonary geöffnet und so aufbereitet, dass nur die Values des einen Keys übrig bleiben. "
   ]
  },
  {
   "cell_type": "code",
   "execution_count": null,
   "metadata": {},
   "outputs": [],
   "source": [
    "with open('words.json') as f:\n",
    "    words_json = json.load(f)\n",
    "    words = words_json['data']\n",
    "# data = pd.read_json('words.json')             # ALTERNATIVE: Darstellung der Daten ist eine weniger günstige   \n",
    "print(words)"
   ]
  },
  {
   "cell_type": "markdown",
   "metadata": {},
   "source": [
    "##### Diese Funktion beschreibt den allgemeinen Zusammenhang zwischen zwei \"Objekten/ Entitäten\" --> Zufällige Auswahl eines \"wort\" aus einer \"Wortsammlung\""
   ]
  },
  {
   "cell_type": "code",
   "execution_count": null,
   "metadata": {},
   "outputs": [],
   "source": [
    "def finde_passendes_wort(wortsammlung):\n",
    "    ein_wort = random.choice(wortsammlung)\n",
    "    while '-' in ein_wort or ' ' in ein_wort:\n",
    "        ein_wort = random.choice(wortsammlung)\n",
    "    return ein_wort.upper()\n",
    "\n",
    "# wort = finde_passendes_wort(words)\n",
    "# print(wort)"
   ]
  },
  {
   "cell_type": "markdown",
   "metadata": {},
   "source": [
    "##### HANGMAN FUNKTION"
   ]
  },
  {
   "cell_type": "markdown",
   "metadata": {},
   "source": [
    "1. Deklaration aller potenziell möglichen Buchstaben (Alphabet) 2. Auswahl des gesuchten Wortes 3. der Aufteilung des Wortes in seine wählbaren Einzelteile (Buchstaben) als Set. "
   ]
  },
  {
   "cell_type": "markdown",
   "metadata": {},
   "source": [
    "4. Erstellung eines Platzhalter-Sets für bereits vom Nutzer genannte Buchstaben"
   ]
  },
  {
   "cell_type": "code",
   "execution_count": null,
   "metadata": {},
   "outputs": [],
   "source": [
    "def hangman():\n",
    "    alphabet = set(string.ascii_uppercase)\n",
    "    print('Type von alphabet: ', type(alphabet))\n",
    "    print('Type von Words: ', type(words))\n",
    "    wort = finde_passendes_wort(words)\n",
    "    print('Type von wort: ', type(wort))\n",
    "    buchstaben_des_wortes = set(wort)     # Buchstaben des Wortes\n",
    "    print('Type von buchstaben_des_wortes: ', type(buchstaben_des_wortes))\n",
    "    \n",
    "    genutzte_buchstaben = set()    # Buchstaben, die der Spieler schon genutzt hat\n",
    "    # print(alphabet)\n",
    "     # Nutzer Input erhalten\n",
    "    while len(buchstaben_des_wortes) > 0:\n",
    "        print(f'Du hast {len(buchstaben_des_wortes)} Buchstaben übrig')\n",
    "        print('Du hast folgende Buchstaben schon genutzt: ', ' '.join(genutzte_buchstaben))\n",
    "        print('Type von genutzte Buchstaben: ', type(genutzte_buchstaben))\n",
    "        # print('Hier die Buchstaben des Wortes: ', buchstaben_des_wortes)\n",
    "        \n",
    "        # Nutzer einen Buchstaben eingeben\n",
    "        buchstabe = input('Gib einen Buchstaben ein: ').upper()\n",
    "        if buchstabe in alphabet - genutzte_buchstaben:\n",
    "            genutzte_buchstaben.add(buchstabe)\n",
    "            if buchstabe in buchstaben_des_wortes:\n",
    "                buchstaben_des_wortes.remove(buchstabe)\n",
    "        elif buchstabe in genutzte_buchstaben:\n",
    "            print('Du hast diesen Buchstaben schon genutzt. Versuche einen anderen Buchstaben.')\n",
    "        else:\n",
    "            print('Ungültige Eingabe!')\n",
    "    \n",
    "   "
   ]
  },
  {
   "cell_type": "code",
   "execution_count": null,
   "metadata": {},
   "outputs": [],
   "source": [
    "# Sobald len(buchstaben_des_wortes) = 0 wird, ist das Spiel zu Ende.\n",
    "hangman()"
   ]
  }
 ],
 "metadata": {
  "kernelspec": {
   "display_name": "Python 3 (ipykernel)",
   "language": "python",
   "name": "python3"
  },
  "language_info": {
   "codemirror_mode": {
    "name": "ipython",
    "version": 3
   },
   "file_extension": ".py",
   "mimetype": "text/x-python",
   "name": "python",
   "nbconvert_exporter": "python",
   "pygments_lexer": "ipython3",
   "version": "3.9.7"
  },
  "vscode": {
   "interpreter": {
    "hash": "f08154012ddadd8e950e6e9e035c7a7b32c136e7647e9b7c77e02eb723a8bedb"
   }
  }
 },
 "nbformat": 4,
 "nbformat_minor": 4
}
