{
 "cells": [
  {
   "cell_type": "code",
   "execution_count": null,
   "metadata": {},
   "outputs": [],
   "source": [
    "### EXPERIMENTIEREN MIT JUPYTER NOTEBOOKS FÜR DIE ENTWICKLUNG VON SPIELEN\n",
    "### Danke an Kylie Ying https://www.youtube.com/watch?v=8ext9G7xspg&list=WL&index=6 \n",
    "from openpyxl import Workbook\n",
    "from openpyxl.chart import BarChart, Reference\n",
    "import pandas as pd\n",
    "import numpy as np\n",
    "import random\n",
    "import json\n",
    "import string\n",
    "import math"
   ]
  },
  {
   "cell_type": "code",
   "execution_count": null,
   "metadata": {},
   "outputs": [],
   "source": [
    "%pwd"
   ]
  },
  {
   "attachments": {},
   "cell_type": "markdown",
   "metadata": {},
   "source": [
    "### Binary Search"
   ]
  },
  {
   "cell_type": "code",
   "execution_count": null,
   "metadata": {},
   "outputs": [],
   "source": [
    "def naive_search(l, ziel):  # l ist die Liste, ziel ist das gesuchte Element\n",
    "    for i in range(len(l)):\n",
    "        if l[i] == ziel:\n",
    "            return i\n",
    "    return -1"
   ]
  },
  {
   "cell_type": "code",
   "execution_count": null,
   "metadata": {},
   "outputs": [],
   "source": [
    "def binary_search(l, ziel):\n",
    "    "
   ]
  },
  {
   "cell_type": "markdown",
   "metadata": {},
   "source": [
    "### TIC TAC TOE"
   ]
  },
  {
   "cell_type": "markdown",
   "metadata": {},
   "source": [
    "##### Erstellung benötigter Klassen"
   ]
  },
  {
   "cell_type": "code",
   "execution_count": 3,
   "metadata": {},
   "outputs": [],
   "source": [
    "class Spieler:\n",
    "    def __init__(self, zeichen):\n",
    "        # zeichen wird \"x\" oder \"o\"\n",
    "        self.zeichen = zeichen\n",
    "    \n",
    "    # Alle Spieler sollen ihren nächsten Zug erhalten\n",
    "    def erhalte_zug(self, spiel):\n",
    "        pass\n",
    "\n",
    "class RandomComputerSpieler(Spieler):\n",
    "    def __init__(self, zeichen):\n",
    "        super().__init__(zeichen)\n",
    "    \n",
    "    def erhalte_zug(self, spiel):\n",
    "        # erhalte einen zufälligen, gültigen Zug\n",
    "        quadrant = random.choice(spiel.moeglicher_zug())\n",
    "        return quadrant\n",
    "         \n",
    "\n",
    "class MenschSpieler(Spieler):\n",
    "    def __init__(self, zeichen):\n",
    "        super().__init__(zeichen)\n",
    "    \n",
    "    def erhalte_zug(self, spiel):\n",
    "        gueltiger_quadrant = False\n",
    "        val = None\n",
    "        while not gueltiger_quadrant:\n",
    "            quadrant = input(self.zeichen + '\\'s Zug. Eingabe für Zug (0-9): ')\n",
    "            try:\n",
    "                val = int(quadrant)\n",
    "                if val not in spiel.moeglicher_zug():\n",
    "                    raise ValueError\n",
    "                gueltiger_quadrant = True # Geil, es ist ein gültiger Zug\n",
    "            except ValueError:\n",
    "                print('Ungültiger Zug. Versuche es erneut.')\n",
    "        \n",
    "        return val\n",
    "\n",
    "class TicTacToe:\n",
    "    def __init__(self):\n",
    "        self.brett = [' ' for _ in range(9)] # Wir nutzen eine einfache Liste mit 9 Feldern um rep 3x3 Brett.\n",
    "        self.aktueller_gewinner = None # Gewinner des Spiels im Auge behalten\n",
    "    \n",
    "    def zeige_brett(self):\n",
    "        for reihe in [self.brett[i*3:(i+1)*3] for i in range(3)]:\n",
    "            print('| ' + ' | '.join(reihe) + ' |')\n",
    "        #for colom in [self.brett[j*3:(j+1)*3] for j in range(3)]:\n",
    "        #    print('_ ' + '_ '.join.(colom) + ' _')\n",
    "    \n",
    "    @staticmethod\n",
    "    def drucke_brett_nummer():\n",
    "        # 0 | 1 | 2 | etc (mitteilen, welche nummer zu welcher box gehört)\n",
    "        brett_nummer = [[str(i) for i in range(j*3, (j+1)*3)] for j in range(3)]\n",
    "        for reihe in brett_nummer:\n",
    "            print('| ' + ' | '.join(reihe) + ' |')\n",
    "    \n",
    "    def mögliche_züge(self):\n",
    "        # VARIANTE 1 - List Comprehension \n",
    "        return [i for i, spot in enumerate(self.brett) if spot == ' ']\n",
    "    \n",
    "    def freie_quadranten(self):\n",
    "        return ' ' in self.brett\n",
    "    \n",
    "    def num_freie_quadranten(self):\n",
    "        return self.brett.count(' ')\n",
    "        #OPTIONAL: return len(self.mögliche_züge())\n",
    "    \n",
    "    def mache_zug(self, quadrant, zeichen):\n",
    "        if self.brett[quadrant] == ' ':\n",
    "            self.brett[quadrant] = zeichen\n",
    "            if self.gewinner(quadrant, zeichen):\n",
    "                self.aktueller_gewinner = zeichen\n",
    "            return True\n",
    "        return False\n",
    "    \n",
    "    def gewinner(self, quadrant, zeichen):\n",
    "        # Teste ob der Quadrant in einer Reihe, Spalte oder Diagonale ist\n",
    "        \n",
    "        # Teste die Reihe\n",
    "        reihe_ind   = quadrant // 3\n",
    "        reihe       = self.brett[reihe_ind*3 : (reihe_ind + 1) * 3]\n",
    "        if all([spot == zeichen for spot in reihe]):\n",
    "            return True\n",
    "        \n",
    "        # Teste die Spalte\n",
    "        spalte_ind   = quadrant % 3\n",
    "        spalte       = [self.brett[spalte_ind+i*3] for i in range(3)]\n",
    "        if all([spot == zeichen for spot in spalte]):\n",
    "            return True\n",
    "        \n",
    "        \n",
    "        # teste die Diagonale\n",
    "        # Nur wenn der Quadrant ist ein Element der Diagonale\n",
    "        # 0, 4, 8 oder 2, 4, 6\n",
    "        if quadrant % 2 == 0:\n",
    "            diagonal1 = [self.brett[i] for i in [0, 4, 8]]\n",
    "            if all([spot == zeichen for spot in diagonal1]):\n",
    "                return True\n",
    "            diagonal2 = [self.brett[i] for i in [2, 4, 6]]\n",
    "            if all([spot == zeichen for spot in diagonal2]):\n",
    "                return True\n",
    "        # wenn alle Tests auf einen Sieger scheitern         \n",
    "        return False  \n",
    "    \n",
    "    \n",
    "# Die erste Funktion, die keine Methode (also nicht Teil einer Klasse) ist\n",
    "def spielen(spiel, x_spieler, o_spieler, print_spiel=True):\n",
    "    # Returnt den Gewinner des Spiels (oder None, wenn unentschieden)\n",
    "    if print_spiel:\n",
    "        spiel.drucke_brett_nummer()\n",
    "    \n",
    "    zeichen = 'X'   # Startendes Zeichen\n",
    "    # Interate, bis das Spiel vorbei ist\n",
    "  \n",
    "    while spiel.freie_quadranten():\n",
    "        # erhalte den Zug vom Spieler der dran ist\n",
    "        if zeichen == '0':\n",
    "            quadrant = o_spieler.erhalte_zug(spiel)\n",
    "        else:\n",
    "            quadrant = x_spieler.erhalte_zug(spiel)\n",
    "        if spiel.mache_zug(quadrant, zeichen):\n",
    "            \n",
    "            if print_spiel:\n",
    "                print(zeichen + f' macht einen Zug nach {quadrant}')\n",
    "                spiel.print_brett()\n",
    "                print('') # Leerzeile\n",
    "            \n",
    "            if spiel.aktueller_gewinner:\n",
    "                if print_spiel:\n",
    "                    print(zeichen + ' hat gewonnen!')\n",
    "                return zeichen\n",
    "            \n",
    "            # Nachdem der Zug gemacht wurde, wird das Zeichen gedreht --> Switching Players\n",
    "            zeichen = '0' if zeichen == 'X' else 'X'                \n",
    "\n",
    "        if print_spiel:\n",
    "            print('Unentschieden!')\n",
    "                \n",
    "if __name__ == '__main__':\n",
    "    x_spieler = MenschSpieler('X')            \n",
    "    o_spieler = RandomComputerSpieler('0')\n",
    "    t = TicTacToe()\n",
    "    spielen(t, x_spieler, o_spieler, print_spiel=True)  \n",
    "        \n",
    "    "
   ]
  },
  {
   "cell_type": "markdown",
   "metadata": {},
   "source": [
    "### GALGENMÄNNCHEN"
   ]
  },
  {
   "cell_type": "markdown",
   "metadata": {},
   "source": [
    "##### Hier wird die JSON-Datei als Python-Dictonary geöffnet und so aufbereitet, dass nur die Values des einen Keys übrig bleiben. "
   ]
  },
  {
   "cell_type": "code",
   "execution_count": null,
   "metadata": {},
   "outputs": [],
   "source": [
    "'''\n",
    "with open('words.json') as f:\n",
    "    words_json = json.load(f)\n",
    "    words = words_json['data']\n",
    "# data = pd.read_json('words.json')             # ALTERNATIVE: Darstellung der Daten ist eine weniger günstige   \n",
    "print(words)\n",
    "'''"
   ]
  },
  {
   "cell_type": "markdown",
   "metadata": {},
   "source": [
    "##### Diese Funktion beschreibt den allgemeinen Zusammenhang zwischen zwei \"Objekten/ Entitäten\" --> Zufällige Auswahl eines \"wort\" aus einer \"Wortsammlung\""
   ]
  },
  {
   "cell_type": "code",
   "execution_count": null,
   "metadata": {},
   "outputs": [],
   "source": [
    "'''\n",
    "def finde_passendes_wort(wortsammlung):\n",
    "    ein_wort = random.choice(wortsammlung)\n",
    "    while '-' in ein_wort or ' ' in ein_wort:\n",
    "        ein_wort = random.choice(wortsammlung)\n",
    "    return ein_wort.upper()\n",
    "'''\n",
    "# wort = finde_passendes_wort(words)\n",
    "# print(wort)"
   ]
  },
  {
   "cell_type": "markdown",
   "metadata": {},
   "source": [
    "##### HANGMAN FUNKTION"
   ]
  },
  {
   "cell_type": "markdown",
   "metadata": {},
   "source": [
    "1. Deklaration aller potenziell möglichen Buchstaben (Alphabet) 2. Auswahl des gesuchten Wortes 3. der Aufteilung des Wortes in seine wählbaren Einzelteile (Buchstaben) als Set. "
   ]
  },
  {
   "cell_type": "markdown",
   "metadata": {},
   "source": [
    "4. Erstellung eines Platzhalter-Sets für bereits vom Nutzer genannte Buchstaben"
   ]
  },
  {
   "cell_type": "code",
   "execution_count": null,
   "metadata": {},
   "outputs": [],
   "source": [
    "'''\n",
    "def hangman():\n",
    "    alphabet = set(string.ascii_uppercase)\n",
    "    # print('Type von alphabet: ', type(alphabet))\n",
    "    # print('Type von Words: ', type(words))\n",
    "    wort = finde_passendes_wort(words)\n",
    "    # print('Type von wort: ', type(wort))\n",
    "    buchstaben_des_wortes = set(wort)     # Buchstaben des Wortes\n",
    "    # print('Type von buchstaben_des_wortes: ', type(buchstaben_des_wortes))\n",
    "    genutzte_buchstaben = set()    # Buchstaben, die der Spieler schon genutzt hat\n",
    "    # print(alphabet)\n",
    "    \n",
    "    leben = 6\n",
    "    \n",
    "     # Nutzer Input erhalten\n",
    "    while len(buchstaben_des_wortes) > 0 and leben >0:\n",
    "        print(f'Du hast {len(buchstaben_des_wortes)} Buchstaben übrig')\n",
    "        print('Du hast noch', leben, 'Leben übrig und folgende Buchstaben bereits genutzt: ', ' '.join(genutzte_buchstaben))\n",
    "        # print('Type von genutzte Buchstaben: ', type(genutzte_buchstaben))\n",
    "        # print('Hier die Buchstaben des Wortes: ', buchstaben_des_wortes)\n",
    "        \n",
    "        # Was ist das aktuelle Wort (zB (W-ORT))    \n",
    "        wort_liste = [buchstabe if buchstabe in genutzte_buchstaben else '-' for buchstabe in wort]\n",
    "        print('Aktuelles Wort: ', ' '.join(wort_liste))\n",
    "        \n",
    "        # Nutzer einen Buchstaben eingeben\n",
    "        buchstabe = input('Gib einen Buchstaben ein: ').upper()\n",
    "        if buchstabe in alphabet - genutzte_buchstaben:\n",
    "            genutzte_buchstaben.add(buchstabe)\n",
    "            if buchstabe in buchstaben_des_wortes:\n",
    "                buchstaben_des_wortes.remove(buchstabe)\n",
    "            else:\n",
    "                leben = leben - 1   # Leben abziehen\n",
    "                print('Der Buchstabe kommt nicht im Wort vor.')\n",
    "                \n",
    "        elif buchstabe in genutzte_buchstaben:\n",
    "            print('Du hast diesen Buchstaben schon genutzt. Versuche einen anderen Buchstaben.')\n",
    "        else:\n",
    "            print('Ungültige Eingabe!')\n",
    "              \n",
    "    # Sobald len(buchstaben_des_wortes) = 0 wird ODER wenn nur noch 0 Leben, dann ist das Spiel zu Ende.\n",
    "    if leben == 0:\n",
    "        print('Tschuldige du bist gestorben. Das gesuchte Wort war:', wort)\n",
    "    else:    \n",
    "        print('Du hast das Wort', wort, 'erraten. Glückwunsch!')\n",
    "\n",
    "hangman()\n",
    "'''"
   ]
  }
 ],
 "metadata": {
  "kernelspec": {
   "display_name": "Python 3 (ipykernel)",
   "language": "python",
   "name": "python3"
  },
  "language_info": {
   "codemirror_mode": {
    "name": "ipython",
    "version": 3
   },
   "file_extension": ".py",
   "mimetype": "text/x-python",
   "name": "python",
   "nbconvert_exporter": "python",
   "pygments_lexer": "ipython3",
   "version": "3.9.7"
  },
  "vscode": {
   "interpreter": {
    "hash": "f08154012ddadd8e950e6e9e035c7a7b32c136e7647e9b7c77e02eb723a8bedb"
   }
  }
 },
 "nbformat": 4,
 "nbformat_minor": 4
}
