{
 "cells": [
  {
   "cell_type": "code",
   "execution_count": null,
   "metadata": {},
   "outputs": [],
   "source": [
    "### EXPERIMENTIEREN MIT JUPYTER NOTEBOOKS FÜR DIE ENTWICKLUNG VON SPIELEN\n",
    "### Danke an Kylie Ying https://www.youtube.com/watch?v=8ext9G7xspg&list=WL&index=6 \n",
    "from openpyxl import Workbook\n",
    "from openpyxl.chart import BarChart, Reference\n",
    "import pandas as pd\n",
    "import numpy as np\n",
    "import random\n",
    "import json\n",
    "import string\n",
    "import math"
   ]
  },
  {
   "cell_type": "markdown",
   "metadata": {},
   "source": [
    "### TIC TAC TOE"
   ]
  },
  {
   "cell_type": "markdown",
   "metadata": {},
   "source": [
    "##### Erstellung benötigter Klassen"
   ]
  },
  {
   "cell_type": "code",
   "execution_count": null,
   "metadata": {},
   "outputs": [],
   "source": [
    "class Spieler:\n",
    "    def __init__(self, zeichen):\n",
    "        # zeichen wird \"x\" oder \"o\"\n",
    "        self.zeichen = zeichen\n",
    "    \n",
    "    # Alle Spieler sollen ihren nächsten Zug erhalten\n",
    "    def erhalte_zug(self, spiel):\n",
    "        pass\n",
    "\n",
    "class RandomComputerSpieler(Spieler):\n",
    "    def __init__(self, zeichen):\n",
    "        super().__init__(zeichen)\n",
    "    \n",
    "    def erhalte_zug(self, spiel):\n",
    "        pass\n",
    "\n",
    "class MenschSpieler(Spieler):\n",
    "    def __init__(self, zeichen):\n",
    "        super().__init__(zeichen)\n",
    "    \n",
    "    def erhalte_zug(self, spiel):\n",
    "        pass\n",
    "\n",
    "class TicTacToe:\n",
    "    def __init__(self):\n",
    "        self.brett = ['' for _ in range(9)] # Wir nutzen eine einfache Liste mit 9 Feldern um rep 3x3 Brett.\n",
    "        self.aktueller_gewinner = None # Gewinner des Spiels im Auge behalten\n",
    "    \n",
    "    def zeige_brett(self):\n",
    "        for reihe in [self.brett[i*3:(i+1)*3] for i in range(3)]:\n",
    "            print('| ' + ' | '.join.(reihe) + ' |')\n",
    "        #for colom in [self.brett[j*3:(j+1)*3] for j in range(3)]:\n",
    "        #    print('_ ' + '_ '.join.(colom) + ' _')\n",
    "    \n",
    "    @staticmethod\n",
    "    def drucke_brett_nummer():\n",
    "        # 0 | 1 | 2 | etc (mitteilen, welche nummer zu welcher box gehört)\n",
    "        brett_nummer = [[str(i) for i in range(j*3, (j+1)*3)] for j in range(3)]\n",
    "        for reihe in brett_nummer:\n",
    "            print('| ' + ' | '.join.(reihe) + ' |')\n",
    "    \n",
    "    def mögliche_züge(self):\n",
    "        # VARIANTE 1 - List Comprehension \n",
    "        return [i for i, spot in enumerate(self.brett) if spot == ' ']\n",
    "            \n",
    "        # VARIANTE 2\n",
    "        '''\n",
    "        züge = []\n",
    "        for (i, spot) in enumerate(self.brett):\n",
    "            # ['x', 'x', 'o'] --> [(0,'x'). (1,'x'), (2,'o')]\n",
    "            if spot == ' ':\n",
    "                züge.append(i)\n",
    "        return züge\n",
    "        '''\n",
    "            \n",
    "            \n",
    "           \n",
    "            \n",
    "            \n",
    "\n",
    "\n",
    "        \n",
    "        \n",
    "                \n",
    "    \n",
    "        \n",
    "    "
   ]
  },
  {
   "cell_type": "markdown",
   "metadata": {},
   "source": [
    "### GALGENMÄNNCHEN"
   ]
  },
  {
   "cell_type": "markdown",
   "metadata": {},
   "source": [
    "##### Hier wird die JSON-Datei als Python-Dictonary geöffnet und so aufbereitet, dass nur die Values des einen Keys übrig bleiben. "
   ]
  },
  {
   "cell_type": "code",
   "execution_count": null,
   "metadata": {},
   "outputs": [],
   "source": [
    "'''\n",
    "with open('words.json') as f:\n",
    "    words_json = json.load(f)\n",
    "    words = words_json['data']\n",
    "# data = pd.read_json('words.json')             # ALTERNATIVE: Darstellung der Daten ist eine weniger günstige   \n",
    "print(words)\n",
    "'''"
   ]
  },
  {
   "cell_type": "markdown",
   "metadata": {},
   "source": [
    "##### Diese Funktion beschreibt den allgemeinen Zusammenhang zwischen zwei \"Objekten/ Entitäten\" --> Zufällige Auswahl eines \"wort\" aus einer \"Wortsammlung\""
   ]
  },
  {
   "cell_type": "code",
   "execution_count": null,
   "metadata": {},
   "outputs": [],
   "source": [
    "'''\n",
    "def finde_passendes_wort(wortsammlung):\n",
    "    ein_wort = random.choice(wortsammlung)\n",
    "    while '-' in ein_wort or ' ' in ein_wort:\n",
    "        ein_wort = random.choice(wortsammlung)\n",
    "    return ein_wort.upper()\n",
    "'''\n",
    "# wort = finde_passendes_wort(words)\n",
    "# print(wort)"
   ]
  },
  {
   "cell_type": "markdown",
   "metadata": {},
   "source": [
    "##### HANGMAN FUNKTION"
   ]
  },
  {
   "cell_type": "markdown",
   "metadata": {},
   "source": [
    "1. Deklaration aller potenziell möglichen Buchstaben (Alphabet) 2. Auswahl des gesuchten Wortes 3. der Aufteilung des Wortes in seine wählbaren Einzelteile (Buchstaben) als Set. "
   ]
  },
  {
   "cell_type": "markdown",
   "metadata": {},
   "source": [
    "4. Erstellung eines Platzhalter-Sets für bereits vom Nutzer genannte Buchstaben"
   ]
  },
  {
   "cell_type": "code",
   "execution_count": null,
   "metadata": {},
   "outputs": [],
   "source": [
    "'''\n",
    "def hangman():\n",
    "    alphabet = set(string.ascii_uppercase)\n",
    "    # print('Type von alphabet: ', type(alphabet))\n",
    "    # print('Type von Words: ', type(words))\n",
    "    wort = finde_passendes_wort(words)\n",
    "    # print('Type von wort: ', type(wort))\n",
    "    buchstaben_des_wortes = set(wort)     # Buchstaben des Wortes\n",
    "    # print('Type von buchstaben_des_wortes: ', type(buchstaben_des_wortes))\n",
    "    genutzte_buchstaben = set()    # Buchstaben, die der Spieler schon genutzt hat\n",
    "    # print(alphabet)\n",
    "    \n",
    "    leben = 6\n",
    "    \n",
    "     # Nutzer Input erhalten\n",
    "    while len(buchstaben_des_wortes) > 0 and leben >0:\n",
    "        print(f'Du hast {len(buchstaben_des_wortes)} Buchstaben übrig')\n",
    "        print('Du hast noch', leben, 'Leben übrig und folgende Buchstaben bereits genutzt: ', ' '.join(genutzte_buchstaben))\n",
    "        # print('Type von genutzte Buchstaben: ', type(genutzte_buchstaben))\n",
    "        # print('Hier die Buchstaben des Wortes: ', buchstaben_des_wortes)\n",
    "        \n",
    "        # Was ist das aktuelle Wort (zB (W-ORT))    \n",
    "        wort_liste = [buchstabe if buchstabe in genutzte_buchstaben else '-' for buchstabe in wort]\n",
    "        print('Aktuelles Wort: ', ' '.join(wort_liste))\n",
    "        \n",
    "        # Nutzer einen Buchstaben eingeben\n",
    "        buchstabe = input('Gib einen Buchstaben ein: ').upper()\n",
    "        if buchstabe in alphabet - genutzte_buchstaben:\n",
    "            genutzte_buchstaben.add(buchstabe)\n",
    "            if buchstabe in buchstaben_des_wortes:\n",
    "                buchstaben_des_wortes.remove(buchstabe)\n",
    "            else:\n",
    "                leben = leben - 1   # Leben abziehen\n",
    "                print('Der Buchstabe kommt nicht im Wort vor.')\n",
    "                \n",
    "        elif buchstabe in genutzte_buchstaben:\n",
    "            print('Du hast diesen Buchstaben schon genutzt. Versuche einen anderen Buchstaben.')\n",
    "        else:\n",
    "            print('Ungültige Eingabe!')\n",
    "              \n",
    "    # Sobald len(buchstaben_des_wortes) = 0 wird ODER wenn nur noch 0 Leben, dann ist das Spiel zu Ende.\n",
    "    if leben == 0:\n",
    "        print('Tschuldige du bist gestorben. Das gesuchte Wort war:', wort)\n",
    "    else:    \n",
    "        print('Du hast das Wort', wort, 'erraten. Glückwunsch!')\n",
    "\n",
    "hangman()\n",
    "'''"
   ]
  }
 ],
 "metadata": {
  "kernelspec": {
   "display_name": "Python 3 (ipykernel)",
   "language": "python",
   "name": "python3"
  },
  "language_info": {
   "codemirror_mode": {
    "name": "ipython",
    "version": 3
   },
   "file_extension": ".py",
   "mimetype": "text/x-python",
   "name": "python",
   "nbconvert_exporter": "python",
   "pygments_lexer": "ipython3",
   "version": "3.9.7"
  },
  "vscode": {
   "interpreter": {
    "hash": "f08154012ddadd8e950e6e9e035c7a7b32c136e7647e9b7c77e02eb723a8bedb"
   }
  }
 },
 "nbformat": 4,
 "nbformat_minor": 4
}
